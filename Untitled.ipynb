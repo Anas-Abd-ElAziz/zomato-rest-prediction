{
 "cells": [
  {
   "cell_type": "markdown",
   "metadata": {},
   "source": [
    "# Zamato Resturant Dataset :\n",
    "\n",
    "### Columns description\n",
    "\n",
    "1. **url:**\n",
    "contains the url of the restaurant in the zomato website\n",
    "\n",
    "2. **address:**\n",
    "contains the address of the restaurant in Bengaluru\n",
    "\n",
    "3. **name:**\n",
    "contains the name of the restaurant\n",
    "\n",
    "4. **online_order:**\n",
    "whether online ordering is available in the restaurant or not\n",
    "\n",
    "5. **book_table:**\n",
    "table book option available or not\n",
    "\n",
    "6. **rate:**\n",
    "contains the overall rating of the restaurant out of 5\n",
    "\n",
    "7. **votes:**\n",
    "contains total number of rating for the restaurant as of the above mentioned date\n",
    "\n",
    "8. **phone:**\n",
    "contains the phone number of the restaurant\n",
    "\n",
    "9. **location:**\n",
    "contains the neighborhood in which the restaurant is located\n",
    "\n",
    "10. **rest_type:**\n",
    "restaurant type\n",
    "\n",
    "11. **dish_liked:**\n",
    "dishes people liked in the restaurant\n",
    "\n",
    "12. **cuisines:**\n",
    "food styles, separated by comma\n",
    "\n",
    "13. **approx_cost(for two people):**\n",
    "contains the approximate cost for meal for two people\n",
    "\n",
    "14. **reviews_list:**\n",
    "list of tuples containing reviews for the restaurant, each tuple \n",
    "\n",
    "15. **menu_item:**\n",
    "contains list of menus available in the restaurant\n",
    "\n",
    "16. **listed_in(type):**\n",
    "type of meal\n",
    "\n",
    "17. **listed_in(city):**\n",
    "contains the neighborhood in which the restaurant is listed\n",
    "\n",
    "\n",
    "### Target\n",
    "6. **rate:**\n",
    "contains the overall rating of the restaurant out of 5\n",
    "\n",
    "### Notebook Steps\n"
   ]
  },
  {
   "cell_type": "code",
   "execution_count": 264,
   "metadata": {},
   "outputs": [],
   "source": [
    "%matplotlib inline\n",
    "import numpy as np\n",
    "import pandas as pd\n",
    "import matplotlib.pyplot as plt\n",
    "import seaborn as sns\n",
    "import joblib\n",
    "from category_encoders.binary import BinaryEncoder\n",
    "from sklearn.preprocessing import StandardScaler,RobustScaler\n",
    "from sklearn.model_selection import train_test_split\n",
    "from sklearn.model_selection import GridSearchCV\n",
    "from xgboost import XGBClassifier\n",
    "from sklearn.linear_model import LogisticRegression\n",
    "from sklearn.neighbors import KNeighborsClassifier\n",
    "from sklearn.ensemble import RandomForestClassifier\n",
    "from sklearn.tree import DecisionTreeClassifier\n",
    "from sklearn.metrics import classification_report,roc_auc_score ,accuracy_score, confusion_matrix, recall_score, precision_score,f1_score\n",
    "import warnings\n",
    "warnings.filterwarnings('ignore')\n",
    "palette='gist_heat'\n",
    "colors = ['#6e2c00','#d35400','#a04000','#e59866','#fbeee6','#fef9e7']\n",
    "plt.rcParams['font.family'] = \"serif\""
   ]
  },
  {
   "cell_type": "code",
   "execution_count": 265,
   "metadata": {},
   "outputs": [],
   "source": [
    "def make_dummies(column,lesuffix='left_',risuffix='right_'):\n",
    "    global df\n",
    "    df = df.join(pd.get_dummies(df.filter(like=f'{column}').stack()).groupby(level=0).max(),lsuffix=lesuffix, rsuffix=risuffix)"
   ]
  },
  {
   "cell_type": "code",
   "execution_count": 266,
   "metadata": {},
   "outputs": [],
   "source": [
    "def barplot(x,y,name):\n",
    "    global palette\n",
    "    plt.figure(figsize=(15,10))\n",
    "    sns.barplot(x=x,y=y,palette=palette)\n",
    "    plt.title(f\"Top {name} in Bangaluru\")\n",
    "    plt.xlabel(f\"Number of {name}\")"
   ]
  },
  {
   "cell_type": "code",
   "execution_count": 267,
   "metadata": {},
   "outputs": [
    {
     "data": {
      "text/html": [
       "<div>\n",
       "<style scoped>\n",
       "    .dataframe tbody tr th:only-of-type {\n",
       "        vertical-align: middle;\n",
       "    }\n",
       "\n",
       "    .dataframe tbody tr th {\n",
       "        vertical-align: top;\n",
       "    }\n",
       "\n",
       "    .dataframe thead th {\n",
       "        text-align: right;\n",
       "    }\n",
       "</style>\n",
       "<table border=\"1\" class=\"dataframe\">\n",
       "  <thead>\n",
       "    <tr style=\"text-align: right;\">\n",
       "      <th></th>\n",
       "      <th>url</th>\n",
       "      <th>address</th>\n",
       "      <th>name</th>\n",
       "      <th>online_order</th>\n",
       "      <th>book_table</th>\n",
       "      <th>rate</th>\n",
       "      <th>votes</th>\n",
       "      <th>phone</th>\n",
       "      <th>location</th>\n",
       "      <th>rest_type</th>\n",
       "      <th>dish_liked</th>\n",
       "      <th>cuisines</th>\n",
       "      <th>approx_cost(for two people)</th>\n",
       "      <th>reviews_list</th>\n",
       "      <th>menu_item</th>\n",
       "      <th>listed_in(type)</th>\n",
       "      <th>listed_in(city)</th>\n",
       "    </tr>\n",
       "  </thead>\n",
       "  <tbody>\n",
       "    <tr>\n",
       "      <th>0</th>\n",
       "      <td>https://www.zomato.com/bangalore/jalsa-banasha...</td>\n",
       "      <td>942, 21st Main Road, 2nd Stage, Banashankari, ...</td>\n",
       "      <td>Jalsa</td>\n",
       "      <td>Yes</td>\n",
       "      <td>Yes</td>\n",
       "      <td>4.1/5</td>\n",
       "      <td>775</td>\n",
       "      <td>080 42297555\\r\\n+91 9743772233</td>\n",
       "      <td>Banashankari</td>\n",
       "      <td>Casual Dining</td>\n",
       "      <td>Pasta, Lunch Buffet, Masala Papad, Paneer Laja...</td>\n",
       "      <td>North Indian, Mughlai, Chinese</td>\n",
       "      <td>800</td>\n",
       "      <td>[('Rated 4.0', 'RATED\\n  A beautiful place to ...</td>\n",
       "      <td>[]</td>\n",
       "      <td>Buffet</td>\n",
       "      <td>Banashankari</td>\n",
       "    </tr>\n",
       "    <tr>\n",
       "      <th>1</th>\n",
       "      <td>https://www.zomato.com/bangalore/spice-elephan...</td>\n",
       "      <td>2nd Floor, 80 Feet Road, Near Big Bazaar, 6th ...</td>\n",
       "      <td>Spice Elephant</td>\n",
       "      <td>Yes</td>\n",
       "      <td>No</td>\n",
       "      <td>4.1/5</td>\n",
       "      <td>787</td>\n",
       "      <td>080 41714161</td>\n",
       "      <td>Banashankari</td>\n",
       "      <td>Casual Dining</td>\n",
       "      <td>Momos, Lunch Buffet, Chocolate Nirvana, Thai G...</td>\n",
       "      <td>Chinese, North Indian, Thai</td>\n",
       "      <td>800</td>\n",
       "      <td>[('Rated 4.0', 'RATED\\n  Had been here for din...</td>\n",
       "      <td>[]</td>\n",
       "      <td>Buffet</td>\n",
       "      <td>Banashankari</td>\n",
       "    </tr>\n",
       "    <tr>\n",
       "      <th>2</th>\n",
       "      <td>https://www.zomato.com/SanchurroBangalore?cont...</td>\n",
       "      <td>1112, Next to KIMS Medical College, 17th Cross...</td>\n",
       "      <td>San Churro Cafe</td>\n",
       "      <td>Yes</td>\n",
       "      <td>No</td>\n",
       "      <td>3.8/5</td>\n",
       "      <td>918</td>\n",
       "      <td>+91 9663487993</td>\n",
       "      <td>Banashankari</td>\n",
       "      <td>Cafe, Casual Dining</td>\n",
       "      <td>Churros, Cannelloni, Minestrone Soup, Hot Choc...</td>\n",
       "      <td>Cafe, Mexican, Italian</td>\n",
       "      <td>800</td>\n",
       "      <td>[('Rated 3.0', \"RATED\\n  Ambience is not that ...</td>\n",
       "      <td>[]</td>\n",
       "      <td>Buffet</td>\n",
       "      <td>Banashankari</td>\n",
       "    </tr>\n",
       "    <tr>\n",
       "      <th>3</th>\n",
       "      <td>https://www.zomato.com/bangalore/addhuri-udupi...</td>\n",
       "      <td>1st Floor, Annakuteera, 3rd Stage, Banashankar...</td>\n",
       "      <td>Addhuri Udupi Bhojana</td>\n",
       "      <td>No</td>\n",
       "      <td>No</td>\n",
       "      <td>3.7/5</td>\n",
       "      <td>88</td>\n",
       "      <td>+91 9620009302</td>\n",
       "      <td>Banashankari</td>\n",
       "      <td>Quick Bites</td>\n",
       "      <td>Masala Dosa</td>\n",
       "      <td>South Indian, North Indian</td>\n",
       "      <td>300</td>\n",
       "      <td>[('Rated 4.0', \"RATED\\n  Great food and proper...</td>\n",
       "      <td>[]</td>\n",
       "      <td>Buffet</td>\n",
       "      <td>Banashankari</td>\n",
       "    </tr>\n",
       "    <tr>\n",
       "      <th>4</th>\n",
       "      <td>https://www.zomato.com/bangalore/grand-village...</td>\n",
       "      <td>10, 3rd Floor, Lakshmi Associates, Gandhi Baza...</td>\n",
       "      <td>Grand Village</td>\n",
       "      <td>No</td>\n",
       "      <td>No</td>\n",
       "      <td>3.8/5</td>\n",
       "      <td>166</td>\n",
       "      <td>+91 8026612447\\r\\n+91 9901210005</td>\n",
       "      <td>Basavanagudi</td>\n",
       "      <td>Casual Dining</td>\n",
       "      <td>Panipuri, Gol Gappe</td>\n",
       "      <td>North Indian, Rajasthani</td>\n",
       "      <td>600</td>\n",
       "      <td>[('Rated 4.0', 'RATED\\n  Very good restaurant ...</td>\n",
       "      <td>[]</td>\n",
       "      <td>Buffet</td>\n",
       "      <td>Banashankari</td>\n",
       "    </tr>\n",
       "  </tbody>\n",
       "</table>\n",
       "</div>"
      ],
      "text/plain": [
       "                                                 url  \\\n",
       "0  https://www.zomato.com/bangalore/jalsa-banasha...   \n",
       "1  https://www.zomato.com/bangalore/spice-elephan...   \n",
       "2  https://www.zomato.com/SanchurroBangalore?cont...   \n",
       "3  https://www.zomato.com/bangalore/addhuri-udupi...   \n",
       "4  https://www.zomato.com/bangalore/grand-village...   \n",
       "\n",
       "                                             address                   name  \\\n",
       "0  942, 21st Main Road, 2nd Stage, Banashankari, ...                  Jalsa   \n",
       "1  2nd Floor, 80 Feet Road, Near Big Bazaar, 6th ...         Spice Elephant   \n",
       "2  1112, Next to KIMS Medical College, 17th Cross...        San Churro Cafe   \n",
       "3  1st Floor, Annakuteera, 3rd Stage, Banashankar...  Addhuri Udupi Bhojana   \n",
       "4  10, 3rd Floor, Lakshmi Associates, Gandhi Baza...          Grand Village   \n",
       "\n",
       "  online_order book_table   rate  votes                             phone  \\\n",
       "0          Yes        Yes  4.1/5    775    080 42297555\\r\\n+91 9743772233   \n",
       "1          Yes         No  4.1/5    787                      080 41714161   \n",
       "2          Yes         No  3.8/5    918                    +91 9663487993   \n",
       "3           No         No  3.7/5     88                    +91 9620009302   \n",
       "4           No         No  3.8/5    166  +91 8026612447\\r\\n+91 9901210005   \n",
       "\n",
       "       location            rest_type  \\\n",
       "0  Banashankari        Casual Dining   \n",
       "1  Banashankari        Casual Dining   \n",
       "2  Banashankari  Cafe, Casual Dining   \n",
       "3  Banashankari          Quick Bites   \n",
       "4  Basavanagudi        Casual Dining   \n",
       "\n",
       "                                          dish_liked  \\\n",
       "0  Pasta, Lunch Buffet, Masala Papad, Paneer Laja...   \n",
       "1  Momos, Lunch Buffet, Chocolate Nirvana, Thai G...   \n",
       "2  Churros, Cannelloni, Minestrone Soup, Hot Choc...   \n",
       "3                                        Masala Dosa   \n",
       "4                                Panipuri, Gol Gappe   \n",
       "\n",
       "                         cuisines approx_cost(for two people)  \\\n",
       "0  North Indian, Mughlai, Chinese                         800   \n",
       "1     Chinese, North Indian, Thai                         800   \n",
       "2          Cafe, Mexican, Italian                         800   \n",
       "3      South Indian, North Indian                         300   \n",
       "4        North Indian, Rajasthani                         600   \n",
       "\n",
       "                                        reviews_list menu_item  \\\n",
       "0  [('Rated 4.0', 'RATED\\n  A beautiful place to ...        []   \n",
       "1  [('Rated 4.0', 'RATED\\n  Had been here for din...        []   \n",
       "2  [('Rated 3.0', \"RATED\\n  Ambience is not that ...        []   \n",
       "3  [('Rated 4.0', \"RATED\\n  Great food and proper...        []   \n",
       "4  [('Rated 4.0', 'RATED\\n  Very good restaurant ...        []   \n",
       "\n",
       "  listed_in(type) listed_in(city)  \n",
       "0          Buffet    Banashankari  \n",
       "1          Buffet    Banashankari  \n",
       "2          Buffet    Banashankari  \n",
       "3          Buffet    Banashankari  \n",
       "4          Buffet    Banashankari  "
      ]
     },
     "execution_count": 267,
     "metadata": {},
     "output_type": "execute_result"
    }
   ],
   "source": [
    "data = pd.read_csv(\"zomato.csv\")\n",
    "data.head()"
   ]
  },
  {
   "cell_type": "code",
   "execution_count": 291,
   "metadata": {
    "scrolled": false
   },
   "outputs": [
    {
     "name": "stdout",
     "output_type": "stream",
     "text": [
      "<class 'pandas.core.frame.DataFrame'>\n",
      "Int64Index: 42944 entries, 0 to 51716\n",
      "Data columns (total 16 columns):\n",
      " #   Column                       Non-Null Count  Dtype \n",
      "---  ------                       --------------  ----- \n",
      " 0   url                          42944 non-null  object\n",
      " 1   address                      42944 non-null  object\n",
      " 2   name                         42944 non-null  object\n",
      " 3   online_order                 42944 non-null  object\n",
      " 4   book_table                   42944 non-null  object\n",
      " 5   rate                         42944 non-null  object\n",
      " 6   votes                        42944 non-null  int64 \n",
      " 7   phone                        42944 non-null  object\n",
      " 8   location                     42944 non-null  object\n",
      " 9   rest_type                    42944 non-null  object\n",
      " 10  cuisines                     42944 non-null  object\n",
      " 11  approx_cost(for two people)  42944 non-null  object\n",
      " 12  reviews_list                 42944 non-null  object\n",
      " 13  menu_item                    42944 non-null  object\n",
      " 14  listed_in(type)              42944 non-null  object\n",
      " 15  listed_in(city)              42944 non-null  object\n",
      "dtypes: int64(1), object(15)\n",
      "memory usage: 5.6+ MB\n"
     ]
    }
   ],
   "source": [
    "data.info()"
   ]
  },
  {
   "cell_type": "code",
   "execution_count": 292,
   "metadata": {},
   "outputs": [
    {
     "data": {
      "text/plain": [
       "url                            0.0\n",
       "address                        0.0\n",
       "name                           0.0\n",
       "online_order                   0.0\n",
       "book_table                     0.0\n",
       "rate                           0.0\n",
       "votes                          0.0\n",
       "phone                          0.0\n",
       "location                       0.0\n",
       "rest_type                      0.0\n",
       "cuisines                       0.0\n",
       "approx_cost(for two people)    0.0\n",
       "reviews_list                   0.0\n",
       "menu_item                      0.0\n",
       "listed_in(type)                0.0\n",
       "listed_in(city)                0.0\n",
       "dtype: float64"
      ]
     },
     "execution_count": 292,
     "metadata": {},
     "output_type": "execute_result"
    }
   ],
   "source": [
    "df = data\n",
    "(df.isnull().sum()*100)/len(df)"
   ]
  },
  {
   "cell_type": "code",
   "execution_count": 293,
   "metadata": {},
   "outputs": [
    {
     "data": {
      "text/plain": [
       "url                            42944\n",
       "address                         9314\n",
       "name                            7044\n",
       "online_order                       2\n",
       "book_table                         2\n",
       "rate                              64\n",
       "votes                           2303\n",
       "phone                          12832\n",
       "location                          92\n",
       "rest_type                         86\n",
       "cuisines                        2479\n",
       "approx_cost(for two people)       66\n",
       "reviews_list                   21281\n",
       "menu_item                       8474\n",
       "listed_in(type)                    7\n",
       "listed_in(city)                   30\n",
       "dtype: int64"
      ]
     },
     "execution_count": 293,
     "metadata": {},
     "output_type": "execute_result"
    }
   ],
   "source": [
    "df.nunique()"
   ]
  },
  {
   "cell_type": "code",
   "execution_count": 294,
   "metadata": {},
   "outputs": [
    {
     "ename": "KeyError",
     "evalue": "\"['dish_liked'] not found in axis\"",
     "output_type": "error",
     "traceback": [
      "\u001b[1;31m---------------------------------------------------------------------------\u001b[0m",
      "\u001b[1;31mKeyError\u001b[0m                                  Traceback (most recent call last)",
      "\u001b[1;32m<ipython-input-294-53abe68149a5>\u001b[0m in \u001b[0;36m<module>\u001b[1;34m\u001b[0m\n\u001b[1;32m----> 1\u001b[1;33m \u001b[0mdf\u001b[0m\u001b[1;33m.\u001b[0m\u001b[0mdrop\u001b[0m\u001b[1;33m(\u001b[0m\u001b[0mcolumns\u001b[0m\u001b[1;33m=\u001b[0m\u001b[1;33m[\u001b[0m\u001b[1;34m'dish_liked'\u001b[0m\u001b[1;33m]\u001b[0m\u001b[1;33m,\u001b[0m\u001b[0minplace\u001b[0m\u001b[1;33m=\u001b[0m\u001b[1;32mTrue\u001b[0m\u001b[1;33m)\u001b[0m\u001b[1;33m\u001b[0m\u001b[1;33m\u001b[0m\u001b[0m\n\u001b[0m\u001b[0;32m      2\u001b[0m \u001b[0mdf\u001b[0m\u001b[1;33m.\u001b[0m\u001b[0mdropna\u001b[0m\u001b[1;33m(\u001b[0m\u001b[0minplace\u001b[0m \u001b[1;33m=\u001b[0m \u001b[1;32mTrue\u001b[0m\u001b[1;33m)\u001b[0m\u001b[1;33m\u001b[0m\u001b[1;33m\u001b[0m\u001b[0m\n",
      "\u001b[1;32m~\\AppData\\Roaming\\Python\\Python37\\site-packages\\pandas\\util\\_decorators.py\u001b[0m in \u001b[0;36mwrapper\u001b[1;34m(*args, **kwargs)\u001b[0m\n\u001b[0;32m    309\u001b[0m                     \u001b[0mstacklevel\u001b[0m\u001b[1;33m=\u001b[0m\u001b[0mstacklevel\u001b[0m\u001b[1;33m,\u001b[0m\u001b[1;33m\u001b[0m\u001b[1;33m\u001b[0m\u001b[0m\n\u001b[0;32m    310\u001b[0m                 )\n\u001b[1;32m--> 311\u001b[1;33m             \u001b[1;32mreturn\u001b[0m \u001b[0mfunc\u001b[0m\u001b[1;33m(\u001b[0m\u001b[1;33m*\u001b[0m\u001b[0margs\u001b[0m\u001b[1;33m,\u001b[0m \u001b[1;33m**\u001b[0m\u001b[0mkwargs\u001b[0m\u001b[1;33m)\u001b[0m\u001b[1;33m\u001b[0m\u001b[1;33m\u001b[0m\u001b[0m\n\u001b[0m\u001b[0;32m    312\u001b[0m \u001b[1;33m\u001b[0m\u001b[0m\n\u001b[0;32m    313\u001b[0m         \u001b[1;32mreturn\u001b[0m \u001b[0mwrapper\u001b[0m\u001b[1;33m\u001b[0m\u001b[1;33m\u001b[0m\u001b[0m\n",
      "\u001b[1;32m~\\AppData\\Roaming\\Python\\Python37\\site-packages\\pandas\\core\\frame.py\u001b[0m in \u001b[0;36mdrop\u001b[1;34m(self, labels, axis, index, columns, level, inplace, errors)\u001b[0m\n\u001b[0;32m   4911\u001b[0m             \u001b[0mlevel\u001b[0m\u001b[1;33m=\u001b[0m\u001b[0mlevel\u001b[0m\u001b[1;33m,\u001b[0m\u001b[1;33m\u001b[0m\u001b[1;33m\u001b[0m\u001b[0m\n\u001b[0;32m   4912\u001b[0m             \u001b[0minplace\u001b[0m\u001b[1;33m=\u001b[0m\u001b[0minplace\u001b[0m\u001b[1;33m,\u001b[0m\u001b[1;33m\u001b[0m\u001b[1;33m\u001b[0m\u001b[0m\n\u001b[1;32m-> 4913\u001b[1;33m             \u001b[0merrors\u001b[0m\u001b[1;33m=\u001b[0m\u001b[0merrors\u001b[0m\u001b[1;33m,\u001b[0m\u001b[1;33m\u001b[0m\u001b[1;33m\u001b[0m\u001b[0m\n\u001b[0m\u001b[0;32m   4914\u001b[0m         )\n\u001b[0;32m   4915\u001b[0m \u001b[1;33m\u001b[0m\u001b[0m\n",
      "\u001b[1;32m~\\AppData\\Roaming\\Python\\Python37\\site-packages\\pandas\\core\\generic.py\u001b[0m in \u001b[0;36mdrop\u001b[1;34m(self, labels, axis, index, columns, level, inplace, errors)\u001b[0m\n\u001b[0;32m   4148\u001b[0m         \u001b[1;32mfor\u001b[0m \u001b[0maxis\u001b[0m\u001b[1;33m,\u001b[0m \u001b[0mlabels\u001b[0m \u001b[1;32min\u001b[0m \u001b[0maxes\u001b[0m\u001b[1;33m.\u001b[0m\u001b[0mitems\u001b[0m\u001b[1;33m(\u001b[0m\u001b[1;33m)\u001b[0m\u001b[1;33m:\u001b[0m\u001b[1;33m\u001b[0m\u001b[1;33m\u001b[0m\u001b[0m\n\u001b[0;32m   4149\u001b[0m             \u001b[1;32mif\u001b[0m \u001b[0mlabels\u001b[0m \u001b[1;32mis\u001b[0m \u001b[1;32mnot\u001b[0m \u001b[1;32mNone\u001b[0m\u001b[1;33m:\u001b[0m\u001b[1;33m\u001b[0m\u001b[1;33m\u001b[0m\u001b[0m\n\u001b[1;32m-> 4150\u001b[1;33m                 \u001b[0mobj\u001b[0m \u001b[1;33m=\u001b[0m \u001b[0mobj\u001b[0m\u001b[1;33m.\u001b[0m\u001b[0m_drop_axis\u001b[0m\u001b[1;33m(\u001b[0m\u001b[0mlabels\u001b[0m\u001b[1;33m,\u001b[0m \u001b[0maxis\u001b[0m\u001b[1;33m,\u001b[0m \u001b[0mlevel\u001b[0m\u001b[1;33m=\u001b[0m\u001b[0mlevel\u001b[0m\u001b[1;33m,\u001b[0m \u001b[0merrors\u001b[0m\u001b[1;33m=\u001b[0m\u001b[0merrors\u001b[0m\u001b[1;33m)\u001b[0m\u001b[1;33m\u001b[0m\u001b[1;33m\u001b[0m\u001b[0m\n\u001b[0m\u001b[0;32m   4151\u001b[0m \u001b[1;33m\u001b[0m\u001b[0m\n\u001b[0;32m   4152\u001b[0m         \u001b[1;32mif\u001b[0m \u001b[0minplace\u001b[0m\u001b[1;33m:\u001b[0m\u001b[1;33m\u001b[0m\u001b[1;33m\u001b[0m\u001b[0m\n",
      "\u001b[1;32m~\\AppData\\Roaming\\Python\\Python37\\site-packages\\pandas\\core\\generic.py\u001b[0m in \u001b[0;36m_drop_axis\u001b[1;34m(self, labels, axis, level, errors)\u001b[0m\n\u001b[0;32m   4183\u001b[0m                 \u001b[0mnew_axis\u001b[0m \u001b[1;33m=\u001b[0m \u001b[0maxis\u001b[0m\u001b[1;33m.\u001b[0m\u001b[0mdrop\u001b[0m\u001b[1;33m(\u001b[0m\u001b[0mlabels\u001b[0m\u001b[1;33m,\u001b[0m \u001b[0mlevel\u001b[0m\u001b[1;33m=\u001b[0m\u001b[0mlevel\u001b[0m\u001b[1;33m,\u001b[0m \u001b[0merrors\u001b[0m\u001b[1;33m=\u001b[0m\u001b[0merrors\u001b[0m\u001b[1;33m)\u001b[0m\u001b[1;33m\u001b[0m\u001b[1;33m\u001b[0m\u001b[0m\n\u001b[0;32m   4184\u001b[0m             \u001b[1;32melse\u001b[0m\u001b[1;33m:\u001b[0m\u001b[1;33m\u001b[0m\u001b[1;33m\u001b[0m\u001b[0m\n\u001b[1;32m-> 4185\u001b[1;33m                 \u001b[0mnew_axis\u001b[0m \u001b[1;33m=\u001b[0m \u001b[0maxis\u001b[0m\u001b[1;33m.\u001b[0m\u001b[0mdrop\u001b[0m\u001b[1;33m(\u001b[0m\u001b[0mlabels\u001b[0m\u001b[1;33m,\u001b[0m \u001b[0merrors\u001b[0m\u001b[1;33m=\u001b[0m\u001b[0merrors\u001b[0m\u001b[1;33m)\u001b[0m\u001b[1;33m\u001b[0m\u001b[1;33m\u001b[0m\u001b[0m\n\u001b[0m\u001b[0;32m   4186\u001b[0m             \u001b[0mresult\u001b[0m \u001b[1;33m=\u001b[0m \u001b[0mself\u001b[0m\u001b[1;33m.\u001b[0m\u001b[0mreindex\u001b[0m\u001b[1;33m(\u001b[0m\u001b[1;33m**\u001b[0m\u001b[1;33m{\u001b[0m\u001b[0maxis_name\u001b[0m\u001b[1;33m:\u001b[0m \u001b[0mnew_axis\u001b[0m\u001b[1;33m}\u001b[0m\u001b[1;33m)\u001b[0m\u001b[1;33m\u001b[0m\u001b[1;33m\u001b[0m\u001b[0m\n\u001b[0;32m   4187\u001b[0m \u001b[1;33m\u001b[0m\u001b[0m\n",
      "\u001b[1;32m~\\AppData\\Roaming\\Python\\Python37\\site-packages\\pandas\\core\\indexes\\base.py\u001b[0m in \u001b[0;36mdrop\u001b[1;34m(self, labels, errors)\u001b[0m\n\u001b[0;32m   6015\u001b[0m         \u001b[1;32mif\u001b[0m \u001b[0mmask\u001b[0m\u001b[1;33m.\u001b[0m\u001b[0many\u001b[0m\u001b[1;33m(\u001b[0m\u001b[1;33m)\u001b[0m\u001b[1;33m:\u001b[0m\u001b[1;33m\u001b[0m\u001b[1;33m\u001b[0m\u001b[0m\n\u001b[0;32m   6016\u001b[0m             \u001b[1;32mif\u001b[0m \u001b[0merrors\u001b[0m \u001b[1;33m!=\u001b[0m \u001b[1;34m\"ignore\"\u001b[0m\u001b[1;33m:\u001b[0m\u001b[1;33m\u001b[0m\u001b[1;33m\u001b[0m\u001b[0m\n\u001b[1;32m-> 6017\u001b[1;33m                 \u001b[1;32mraise\u001b[0m \u001b[0mKeyError\u001b[0m\u001b[1;33m(\u001b[0m\u001b[1;34mf\"{labels[mask]} not found in axis\"\u001b[0m\u001b[1;33m)\u001b[0m\u001b[1;33m\u001b[0m\u001b[1;33m\u001b[0m\u001b[0m\n\u001b[0m\u001b[0;32m   6018\u001b[0m             \u001b[0mindexer\u001b[0m \u001b[1;33m=\u001b[0m \u001b[0mindexer\u001b[0m\u001b[1;33m[\u001b[0m\u001b[1;33m~\u001b[0m\u001b[0mmask\u001b[0m\u001b[1;33m]\u001b[0m\u001b[1;33m\u001b[0m\u001b[1;33m\u001b[0m\u001b[0m\n\u001b[0;32m   6019\u001b[0m         \u001b[1;32mreturn\u001b[0m \u001b[0mself\u001b[0m\u001b[1;33m.\u001b[0m\u001b[0mdelete\u001b[0m\u001b[1;33m(\u001b[0m\u001b[0mindexer\u001b[0m\u001b[1;33m)\u001b[0m\u001b[1;33m\u001b[0m\u001b[1;33m\u001b[0m\u001b[0m\n",
      "\u001b[1;31mKeyError\u001b[0m: \"['dish_liked'] not found in axis\""
     ]
    }
   ],
   "source": [
    "df.drop(columns=['dish_liked'],inplace=True)\n",
    "df.dropna(inplace = True)"
   ]
  },
  {
   "cell_type": "code",
   "execution_count": null,
   "metadata": {},
   "outputs": [],
   "source": [
    "barplot(df['name'].value_counts()[:20],df['name'].value_counts()[:20].index,'Restaurants')"
   ]
  },
  {
   "cell_type": "code",
   "execution_count": null,
   "metadata": {},
   "outputs": [],
   "source": [
    "barplot(df['rest_type'].value_counts()[:20],df['rest_type'].value_counts()[:20].index,'Restaurant types')"
   ]
  },
  {
   "cell_type": "code",
   "execution_count": null,
   "metadata": {},
   "outputs": [],
   "source": [
    "barplot(df['cuisines'].value_counts()[:20],df['cuisines'].value_counts()[:20].index,'cuisines')"
   ]
  },
  {
   "cell_type": "code",
   "execution_count": null,
   "metadata": {},
   "outputs": [],
   "source": [
    "barplot(df['location'].value_counts()[:20],df['location'].value_counts()[:20].index,'locations')"
   ]
  },
  {
   "cell_type": "code",
   "execution_count": 295,
   "metadata": {},
   "outputs": [
    {
     "data": {
      "image/png": "[encoded data removed]",
      "text/plain": [
       "<Figure size 720x2160 with 6 Axes>"
      ]
     },
     "metadata": {
      "needs_background": "light"
     },
     "output_type": "display_data"
    }
   ],
   "source": [
    "fig, axs = plt.subplots(ncols = 1, nrows = 6, figsize = (10, 30))\n",
    "index = 0\n",
    "\n",
    "axs = axs.flatten()\n",
    "for col in enumerate(df['name'].value_counts()[:6].index):\n",
    "    df2=df[df['name']==col[1]]\n",
    "    #plt.subplots_adjust(hspace=1)\n",
    "    x=df2['cuisines'].value_counts()[:5]\n",
    "    sns.barplot(data=df2,x=x,y=x.index,palette=palette,ax = axs[index])\n",
    "    axs[index].set_title(f\"Top cuisines in {col[1]}\")\n",
    "    index += 1"
   ]
  },
  {
   "cell_type": "code",
   "execution_count": 296,
   "metadata": {},
   "outputs": [],
   "source": [
    "#Cleaning 'Rate' feature\n",
    "df['rate'] = df[\"rate\"].str.split(\"/\", expand = False).str[0]\n",
    "df = df[(df['rate'] != 'NEW') & (df['rate'] != '-')]\n",
    "df['rate']= df['rate'].astype(float)"
   ]
  },
  {
   "cell_type": "code",
   "execution_count": 297,
   "metadata": {},
   "outputs": [
    {
     "data": {
      "text/plain": [
       "Text(0.5, 0, 'Number of resturants that accept Online / Tabel Ordering')"
      ]
     },
     "execution_count": 297,
     "metadata": {},
     "output_type": "execute_result"
    },
    {
     "data": {
      "image/png": "[encoded data removed]",
      "text/plain": [
       "<Figure size 1152x720 with 2 Axes>"
      ]
     },
     "metadata": {},
     "output_type": "display_data"
    }
   ],
   "source": [
    "fig, axs = plt.subplots(ncols = 2, nrows = 1, figsize = (16, 10))\n",
    "index = 0\n",
    "df.groupby('online_order').size().plot(kind='pie',y=df['online_order'],colors=colors,ax = axs[0])\n",
    "axs[0].set_ylabel('Online', size=22)\n",
    "df.groupby('book_table').size().plot(kind='pie',y=df['book_table'],colors=colors,ax = axs[1])\n",
    "axs[1].set_ylabel('Table', size=22)\n",
    "plt.xlabel(\"Number of resturants that accept Online / Tabel Ordering\", size=22)"
   ]
  },
  {
   "cell_type": "code",
   "execution_count": 298,
   "metadata": {},
   "outputs": [],
   "source": [
    "#Cleaning 'approx_cost(for two people)' feature\n",
    "df['approx_cost'] = df['approx_cost(for two people)'].astype(str).apply(lambda x: x.replace(',', ''))\n",
    "df['approx_cost'] = df['approx_cost'].astype(float)\n",
    "df.drop(['approx_cost(for two people)'], axis=1, inplace=True)"
   ]
  },
  {
   "cell_type": "code",
   "execution_count": 299,
   "metadata": {},
   "outputs": [
    {
     "data": {
      "text/plain": [
       "Text(0.5, 0, 'Relation Between Cost and rate')"
      ]
     },
     "execution_count": 299,
     "metadata": {},
     "output_type": "execute_result"
    },
    {
     "data": {
      "image/png": "[encoded data removed]",
      "text/plain": [
       "<Figure size 1080x720 with 1 Axes>"
      ]
     },
     "metadata": {
      "needs_background": "light"
     },
     "output_type": "display_data"
    }
   ],
   "source": [
    "plt.figure(figsize=(15,10))\n",
    "sns.scatterplot(data=df[['rate','approx_cost']].dropna(),x=\"rate\",y='approx_cost',c=[[0.8,0.5,0]])\n",
    "plt.xlabel(\"Relation Between Cost and rate\", size=22)"
   ]
  },
  {
   "cell_type": "code",
   "execution_count": 300,
   "metadata": {},
   "outputs": [
    {
     "data": {
      "text/plain": [
       "1    58.040652\n",
       "0    41.959348\n",
       "Name: rate, dtype: float64"
      ]
     },
     "execution_count": 300,
     "metadata": {},
     "output_type": "execute_result"
    }
   ],
   "source": [
    "df['rate']=df['rate'].apply(lambda x : 1 if x >=3.7 else 0)\n",
    "(df['rate'].value_counts()*100)/len(df)"
   ]
  },
  {
   "cell_type": "code",
   "execution_count": 301,
   "metadata": {},
   "outputs": [
    {
     "name": "stdout",
     "output_type": "stream",
     "text": [
      "25\n",
      "['Casual Dining' 'Cafe' 'Quick Bites' 'Delivery' 'Mess' 'Dessert Parlor'\n",
      " 'Bakery' 'Pub' 'Takeaway' 'Fine Dining' 'Beverage Shop' 'Sweet Shop'\n",
      " 'Bar' 'Kiosk' 'Food Truck' 'Microbrewery' 'Lounge' 'Food Court' 'Dhaba'\n",
      " 'Club' 'Confectionery' 'Bhojanalya' nan 'Irani Cafee' 'Meat Shop']\n"
     ]
    }
   ],
   "source": [
    "df['rest_type1']=df['rest_type'].str.split(',').str[0].str.strip()\n",
    "df['rest_type2']=df['rest_type'].str.split(',').str[1].str.strip()\n",
    "print(len(pd.unique(df[['rest_type1', 'rest_type2']].values.ravel('K'))))\n",
    "print(pd.unique(df[['rest_type1', 'rest_type2']].values.ravel('K')))"
   ]
  },
  {
   "cell_type": "code",
   "execution_count": 302,
   "metadata": {},
   "outputs": [],
   "source": [
    "#df['cuisines'].value_counts()\n",
    "#df['cuisines1']=df['cuisines'].str.split(',').str[0].str.strip()\n",
    "#df['cuisines2']=df['cuisines'].str.split(',').str[1].str.strip()\n",
    "#df['cuisines3']=df['cuisines'].str.split(',').str[2].str.strip()\n",
    "#df['cuisines4']=df['cuisines'].str.split(',').str[3].str.strip()\n",
    "#df['cuisines5']=df['cuisines'].str.split(',').str[4].str.strip()\n",
    "#df['cuisines6']=df['cuisines'].str.split(',').str[5].str.strip()\n",
    "#df['cuisines7']=df['cuisines'].str.split(',').str[6].str.strip()\n",
    "#df['cuisines8']=df['cuisines'].str.split(',').str[7].str.strip()\n",
    "#print(len(pd.unique(df[['cuisines1', 'cuisines2','cuisines3','cuisines4','cuisines5','cuisines6','cuisines7','cuisines8']].values.ravel('K'))))\n",
    "df['total_cusines']=df['cuisines'].astype(str).apply(lambda x: len(x.split(',')))"
   ]
  },
  {
   "cell_type": "code",
   "execution_count": 303,
   "metadata": {},
   "outputs": [],
   "source": [
    "#df['listed_in(type)'].value_counts()\n",
    "#df['listed_in(city)'].value_counts()"
   ]
  },
  {
   "cell_type": "code",
   "execution_count": 304,
   "metadata": {},
   "outputs": [
    {
     "name": "stdout",
     "output_type": "stream",
     "text": [
      "29858\n"
     ]
    }
   ],
   "source": [
    "#df['total_items']=df['menu_item'].astype(str).apply(lambda x: len(x.split(',')))\n",
    "print(len(df[df['menu_item']=='[]']))\n",
    "df.drop(columns=['menu_item'],inplace=True)"
   ]
  },
  {
   "cell_type": "code",
   "execution_count": 305,
   "metadata": {},
   "outputs": [],
   "source": [
    "location_dist=df['location'].value_counts(normalize=True)*100\n",
    "location_distvalue=location_dist.values\n",
    "imp_loc=location_dist[location_distvalue>0.5]"
   ]
  },
  {
   "cell_type": "code",
   "execution_count": 306,
   "metadata": {},
   "outputs": [],
   "source": [
    "def valid_loc(r):\n",
    "    if r in imp_loc:\n",
    "        return r\n",
    "    else:\n",
    "        return 'other'\n",
    "df['location']=df['location'].apply(valid_loc) "
   ]
  },
  {
   "cell_type": "code",
   "execution_count": 307,
   "metadata": {},
   "outputs": [
    {
     "data": {
      "text/plain": [
       "45"
      ]
     },
     "execution_count": 307,
     "metadata": {},
     "output_type": "execute_result"
    }
   ],
   "source": [
    "len(df['location'].unique())"
   ]
  },
  {
   "cell_type": "code",
   "execution_count": 308,
   "metadata": {},
   "outputs": [],
   "source": [
    "df.drop(columns=['cuisines'],inplace=True)\n",
    "df.drop(columns=['rest_type'],inplace=True)\n",
    "make_dummies('rest_type')\n",
    "#make_dummies('cuisines',lesuffix='_type', risuffix='_cuisine')\n",
    "#df = df.join(pd.get_dummies(df.filter(like=f'rest_type').stack()).groupby(level=0).max())\n",
    "#df = df.join(pd.get_dummies(df.filter(like=f'cuisines').stack()).groupby(level=0).max(),lsuffix='_type', rsuffix='_cuisine')\n",
    "df.drop(columns=['rest_type1','rest_type2'],inplace=True)\n",
    "#for i in range(1,9):\n",
    "#    df.drop(columns=[f'cuisines{i}'],inplace=True)\n",
    "df['online_order'] = df['online_order'].map({'Yes': 1, 'No': 0})\n",
    "df['book_table'] = df['book_table'].map({'Yes': 1, 'No': 0})\n",
    "df[df['approx_cost']>2500]\n",
    "df=df.drop(columns=['name','url','phone','votes','reviews_list','address'], axis = 1)\n",
    "df2=df.drop('rate', axis=1)"
   ]
  },
  {
   "cell_type": "code",
   "execution_count": 309,
   "metadata": {},
   "outputs": [],
   "source": [
    "Location = BinaryEncoder(cols =['location'])\n",
    "newdata = Location.fit_transform(df['location'])\n",
    "df = pd.concat([df, newdata], axis = 1)\n",
    "df = df.drop(['location'], axis = 1)\n",
    "\n",
    "#Type = BinaryEncoder(cols =['listed_in(type)'])\n",
    "#df['listed_in(type)'] = Type.fit_transform(df['listed_in(type)'])\n",
    "#City = BinaryEncoder(cols =['listed_in(city)'])\n",
    "#df['listed_in(city)'] = City.fit_transform(df['listed_in(city)'])"
   ]
  },
  {
   "cell_type": "code",
   "execution_count": 310,
   "metadata": {},
   "outputs": [],
   "source": [
    "City = BinaryEncoder(cols =['listed_in(type)'])\n",
    "newdata = City.fit_transform(df['listed_in(type)'])\n",
    "df = pd.concat([df, newdata], axis = 1)\n",
    "df = df.drop(['listed_in(type)'], axis = 1)"
   ]
  },
  {
   "cell_type": "code",
   "execution_count": 311,
   "metadata": {},
   "outputs": [],
   "source": [
    "Type = BinaryEncoder(cols =['listed_in(city)'])\n",
    "newdata = Type.fit_transform(df['listed_in(city)'])\n",
    "df = pd.concat([df, newdata], axis = 1)\n",
    "df = df.drop(['listed_in(city)'], axis = 1)\n"
   ]
  },
  {
   "cell_type": "code",
   "execution_count": 312,
   "metadata": {},
   "outputs": [],
   "source": [
    "x = df.drop('rate', axis=1)\n",
    "y = df['rate']\n",
    "x_train, x_test, y_train, y_test = train_test_split(x, y, test_size=0.3, random_state=420,stratify=y)"
   ]
  },
  {
   "cell_type": "code",
   "execution_count": 313,
   "metadata": {},
   "outputs": [],
   "source": [
    "scaler = RobustScaler()\n",
    "x_train = scaler.fit_transform(x_train.values)\n",
    "x_test = scaler.fit_transform(x_test.values)"
   ]
  },
  {
   "cell_type": "code",
   "execution_count": 314,
   "metadata": {},
   "outputs": [
    {
     "name": "stdout",
     "output_type": "stream",
     "text": [
      "=======================\n",
      "==       Data        ==\n",
      "=======================\n",
      "\n",
      "=======================\n",
      "LogisticRegression \n",
      "=======================\n",
      "\t      Accurcy :  0.6830407303370787\n",
      "\t      Accurcy :  0.6855902351110019\n",
      "              precision    recall  f1-score   support\n",
      "\n",
      "           0       0.62      0.64      0.63      5122\n",
      "           1       0.73      0.72      0.73      7085\n",
      "\n",
      "    accuracy                           0.69     12207\n",
      "   macro avg       0.68      0.68      0.68     12207\n",
      "weighted avg       0.69      0.69      0.69     12207\n",
      " \n",
      "\n",
      "\n",
      "------------------------------------------\n",
      "\n",
      "=======================\n",
      "DecisionTreeClassifier \n",
      "=======================\n",
      "\t      Accurcy :  0.9381320224719101\n",
      "\t      Accurcy :  0.7979028426312771\n",
      "              precision    recall  f1-score   support\n",
      "\n",
      "           0       0.74      0.79      0.77      5122\n",
      "           1       0.84      0.80      0.82      7085\n",
      "\n",
      "    accuracy                           0.80     12207\n",
      "   macro avg       0.79      0.80      0.79     12207\n",
      "weighted avg       0.80      0.80      0.80     12207\n",
      " \n",
      "\n",
      "\n",
      "------------------------------------------\n",
      "\n",
      "=======================\n",
      "XGBoost \n",
      "=======================\n",
      "\t      Accurcy :  0.8001053370786517\n",
      "\t      Accurcy :  0.7699680511182109\n",
      "              precision    recall  f1-score   support\n",
      "\n",
      "           0       0.71      0.76      0.74      5122\n",
      "           1       0.82      0.77      0.80      7085\n",
      "\n",
      "    accuracy                           0.77     12207\n",
      "   macro avg       0.76      0.77      0.77     12207\n",
      "weighted avg       0.77      0.77      0.77     12207\n",
      " \n",
      "\n",
      "\n",
      "------------------------------------------\n",
      "\n",
      "=======================\n",
      "KNeighborsClassifier \n",
      "=======================\n",
      "\t      Accurcy :  0.8151685393258427\n",
      "\t      Accurcy :  0.7215532071762104\n",
      "              precision    recall  f1-score   support\n",
      "\n",
      "           0       0.67      0.67      0.67      5122\n",
      "           1       0.76      0.76      0.76      7085\n",
      "\n",
      "    accuracy                           0.72     12207\n",
      "   macro avg       0.71      0.71      0.71     12207\n",
      "weighted avg       0.72      0.72      0.72     12207\n",
      " \n",
      "\n",
      "\n",
      "------------------------------------------\n",
      "\n",
      "=======================\n",
      "RandomForestClassifier \n",
      "=======================\n",
      "\t      Accurcy :  0.9381320224719101\n",
      "\t      Accurcy :  0.7549766527402311\n",
      "              precision    recall  f1-score   support\n",
      "\n",
      "           0       0.71      0.71      0.71      5122\n",
      "           1       0.79      0.79      0.79      7085\n",
      "\n",
      "    accuracy                           0.75     12207\n",
      "   macro avg       0.75      0.75      0.75     12207\n",
      "weighted avg       0.76      0.75      0.76     12207\n",
      " \n",
      "\n",
      "\n",
      "------------------------------------------\n"
     ]
    }
   ],
   "source": [
    "models = {\n",
    "    'LogisticRegression' : LogisticRegression(),\n",
    "    'DecisionTreeClassifier' : DecisionTreeClassifier(),\n",
    "    'XGBoost':XGBClassifier(),\n",
    "    'KNeighborsClassifier' : KNeighborsClassifier(),\n",
    "    'RandomForestClassifier' : RandomForestClassifier(),\n",
    "}\n",
    "print('=======================')\n",
    "print('==       Data        ==')\n",
    "print('=======================')\n",
    "for name,model in models.items():\n",
    "    model.fit(x_train, y_train)\n",
    "    y_pred = model.predict(x_test)\n",
    "    y_predt = model.predict(x_train)\n",
    "    print('\\n=======================')\n",
    "    print(name,'\\n=======================')\n",
    "    print('\\t      Accurcy : ',accuracy_score(y_train, y_predt))\n",
    "    print('\\t      Accurcy : ',accuracy_score(y_test, y_pred))\n",
    "    print(classification_report(y_test, y_pred),'\\n')\n",
    "    print('\\n------------------------------------------')"
   ]
  },
  {
   "cell_type": "code",
   "execution_count": 508,
   "metadata": {},
   "outputs": [
    {
     "data": {
      "text/plain": [
       "['joblib/scaler.h5']"
      ]
     },
     "execution_count": 508,
     "metadata": {},
     "output_type": "execute_result"
    }
   ],
   "source": [
    "model=RandomForestClassifier().fit(x_train, y_train)\n",
    "df2.to_csv('zomato_cleaned.csv',index=False)\n",
    "joblib.dump(Location, 'joblib/Location_ENC.h5')\n",
    "joblib.dump(Type, 'joblib/Type_ENC.h5')\n",
    "joblib.dump(City, 'joblib/City_ENC.h5')\n",
    "joblib.dump(model, 'joblib/model.h5')\n",
    "joblib.dump(scaler, 'joblib/scaler.h5')"
   ]
  },
  {
   "cell_type": "code",
   "execution_count": 187,
   "metadata": {},
   "outputs": [
    {
     "name": "stdout",
     "output_type": "stream",
     "text": [
      "Fitting 5 folds for each of 18 candidates, totalling 90 fits\n",
      "[CV] END criterion=gini, max_depth=10, min_samples_leaf=3, n_jobs=1; total time=   1.9s\n",
      "[CV] END criterion=gini, max_depth=10, min_samples_leaf=3, n_jobs=1; total time=   2.2s\n",
      "[CV] END criterion=gini, max_depth=10, min_samples_leaf=3, n_jobs=1; total time=   2.1s\n",
      "[CV] END criterion=gini, max_depth=10, min_samples_leaf=3, n_jobs=1; total time=   3.1s\n",
      "[CV] END criterion=gini, max_depth=10, min_samples_leaf=3, n_jobs=1; total time=   2.2s\n",
      "[CV] END criterion=gini, max_depth=10, min_samples_leaf=6, n_jobs=1; total time=   2.6s\n",
      "[CV] END criterion=gini, max_depth=10, min_samples_leaf=6, n_jobs=1; total time=   2.3s\n",
      "[CV] END criterion=gini, max_depth=10, min_samples_leaf=6, n_jobs=1; total time=   2.6s\n",
      "[CV] END criterion=gini, max_depth=10, min_samples_leaf=6, n_jobs=1; total time=   2.0s\n",
      "[CV] END criterion=gini, max_depth=10, min_samples_leaf=6, n_jobs=1; total time=   2.0s\n",
      "[CV] END criterion=gini, max_depth=10, min_samples_leaf=9, n_jobs=1; total time=   2.0s\n",
      "[CV] END criterion=gini, max_depth=10, min_samples_leaf=9, n_jobs=1; total time=   2.4s\n",
      "[CV] END criterion=gini, max_depth=10, min_samples_leaf=9, n_jobs=1; total time=   2.0s\n",
      "[CV] END criterion=gini, max_depth=10, min_samples_leaf=9, n_jobs=1; total time=   2.0s\n",
      "[CV] END criterion=gini, max_depth=10, min_samples_leaf=9, n_jobs=1; total time=   2.0s\n",
      "[CV] END criterion=gini, max_depth=50, min_samples_leaf=3, n_jobs=1; total time=   2.9s\n",
      "[CV] END criterion=gini, max_depth=50, min_samples_leaf=3, n_jobs=1; total time=   3.7s\n",
      "[CV] END criterion=gini, max_depth=50, min_samples_leaf=3, n_jobs=1; total time=   2.7s\n",
      "[CV] END criterion=gini, max_depth=50, min_samples_leaf=3, n_jobs=1; total time=   2.7s\n",
      "[CV] END criterion=gini, max_depth=50, min_samples_leaf=3, n_jobs=1; total time=   2.9s\n",
      "[CV] END criterion=gini, max_depth=50, min_samples_leaf=6, n_jobs=1; total time=   2.6s\n",
      "[CV] END criterion=gini, max_depth=50, min_samples_leaf=6, n_jobs=1; total time=   2.9s\n",
      "[CV] END criterion=gini, max_depth=50, min_samples_leaf=6, n_jobs=1; total time=   2.7s\n",
      "[CV] END criterion=gini, max_depth=50, min_samples_leaf=6, n_jobs=1; total time=   2.7s\n",
      "[CV] END criterion=gini, max_depth=50, min_samples_leaf=6, n_jobs=1; total time=   3.0s\n",
      "[CV] END criterion=gini, max_depth=50, min_samples_leaf=9, n_jobs=1; total time=   2.3s\n",
      "[CV] END criterion=gini, max_depth=50, min_samples_leaf=9, n_jobs=1; total time=   1.9s\n",
      "[CV] END criterion=gini, max_depth=50, min_samples_leaf=9, n_jobs=1; total time=   2.0s\n",
      "[CV] END criterion=gini, max_depth=50, min_samples_leaf=9, n_jobs=1; total time=   1.9s\n",
      "[CV] END criterion=gini, max_depth=50, min_samples_leaf=9, n_jobs=1; total time=   2.1s\n",
      "[CV] END criterion=gini, max_depth=100, min_samples_leaf=3, n_jobs=1; total time=   2.7s\n",
      "[CV] END criterion=gini, max_depth=100, min_samples_leaf=3, n_jobs=1; total time=   2.5s\n",
      "[CV] END criterion=gini, max_depth=100, min_samples_leaf=3, n_jobs=1; total time=   2.4s\n",
      "[CV] END criterion=gini, max_depth=100, min_samples_leaf=3, n_jobs=1; total time=   2.5s\n",
      "[CV] END criterion=gini, max_depth=100, min_samples_leaf=3, n_jobs=1; total time=   2.4s\n",
      "[CV] END criterion=gini, max_depth=100, min_samples_leaf=6, n_jobs=1; total time=   2.4s\n",
      "[CV] END criterion=gini, max_depth=100, min_samples_leaf=6, n_jobs=1; total time=   2.1s\n",
      "[CV] END criterion=gini, max_depth=100, min_samples_leaf=6, n_jobs=1; total time=   2.3s\n",
      "[CV] END criterion=gini, max_depth=100, min_samples_leaf=6, n_jobs=1; total time=   2.3s\n",
      "[CV] END criterion=gini, max_depth=100, min_samples_leaf=6, n_jobs=1; total time=   2.5s\n",
      "[CV] END criterion=gini, max_depth=100, min_samples_leaf=9, n_jobs=1; total time=   2.2s\n",
      "[CV] END criterion=gini, max_depth=100, min_samples_leaf=9, n_jobs=1; total time=   2.1s\n",
      "[CV] END criterion=gini, max_depth=100, min_samples_leaf=9, n_jobs=1; total time=   2.0s\n",
      "[CV] END criterion=gini, max_depth=100, min_samples_leaf=9, n_jobs=1; total time=   2.1s\n",
      "[CV] END criterion=gini, max_depth=100, min_samples_leaf=9, n_jobs=1; total time=   2.1s\n",
      "[CV] END criterion=entropy, max_depth=10, min_samples_leaf=3, n_jobs=1; total time=   1.6s\n",
      "[CV] END criterion=entropy, max_depth=10, min_samples_leaf=3, n_jobs=1; total time=   1.6s\n",
      "[CV] END criterion=entropy, max_depth=10, min_samples_leaf=3, n_jobs=1; total time=   2.1s\n",
      "[CV] END criterion=entropy, max_depth=10, min_samples_leaf=3, n_jobs=1; total time=   1.8s\n",
      "[CV] END criterion=entropy, max_depth=10, min_samples_leaf=3, n_jobs=1; total time=   1.7s\n",
      "[CV] END criterion=entropy, max_depth=10, min_samples_leaf=6, n_jobs=1; total time=   1.9s\n",
      "[CV] END criterion=entropy, max_depth=10, min_samples_leaf=6, n_jobs=1; total time=   1.8s\n",
      "[CV] END criterion=entropy, max_depth=10, min_samples_leaf=6, n_jobs=1; total time=   1.7s\n",
      "[CV] END criterion=entropy, max_depth=10, min_samples_leaf=6, n_jobs=1; total time=   1.9s\n",
      "[CV] END criterion=entropy, max_depth=10, min_samples_leaf=6, n_jobs=1; total time=   1.7s\n",
      "[CV] END criterion=entropy, max_depth=10, min_samples_leaf=9, n_jobs=1; total time=   1.7s\n",
      "[CV] END criterion=entropy, max_depth=10, min_samples_leaf=9, n_jobs=1; total time=   1.8s\n",
      "[CV] END criterion=entropy, max_depth=10, min_samples_leaf=9, n_jobs=1; total time=   1.8s\n",
      "[CV] END criterion=entropy, max_depth=10, min_samples_leaf=9, n_jobs=1; total time=   1.7s\n",
      "[CV] END criterion=entropy, max_depth=10, min_samples_leaf=9, n_jobs=1; total time=   1.7s\n",
      "[CV] END criterion=entropy, max_depth=50, min_samples_leaf=3, n_jobs=1; total time=   2.6s\n",
      "[CV] END criterion=entropy, max_depth=50, min_samples_leaf=3, n_jobs=1; total time=   2.5s\n",
      "[CV] END criterion=entropy, max_depth=50, min_samples_leaf=3, n_jobs=1; total time=   2.6s\n",
      "[CV] END criterion=entropy, max_depth=50, min_samples_leaf=3, n_jobs=1; total time=   2.5s\n",
      "[CV] END criterion=entropy, max_depth=50, min_samples_leaf=3, n_jobs=1; total time=   2.7s\n",
      "[CV] END criterion=entropy, max_depth=50, min_samples_leaf=6, n_jobs=1; total time=   2.3s\n",
      "[CV] END criterion=entropy, max_depth=50, min_samples_leaf=6, n_jobs=1; total time=   2.6s\n",
      "[CV] END criterion=entropy, max_depth=50, min_samples_leaf=6, n_jobs=1; total time=   2.2s\n",
      "[CV] END criterion=entropy, max_depth=50, min_samples_leaf=6, n_jobs=1; total time=   2.3s\n",
      "[CV] END criterion=entropy, max_depth=50, min_samples_leaf=6, n_jobs=1; total time=   2.3s\n",
      "[CV] END criterion=entropy, max_depth=50, min_samples_leaf=9, n_jobs=1; total time=   2.1s\n",
      "[CV] END criterion=entropy, max_depth=50, min_samples_leaf=9, n_jobs=1; total time=   2.1s\n",
      "[CV] END criterion=entropy, max_depth=50, min_samples_leaf=9, n_jobs=1; total time=   2.1s\n",
      "[CV] END criterion=entropy, max_depth=50, min_samples_leaf=9, n_jobs=1; total time=   2.3s\n",
      "[CV] END criterion=entropy, max_depth=50, min_samples_leaf=9, n_jobs=1; total time=   2.1s\n",
      "[CV] END criterion=entropy, max_depth=100, min_samples_leaf=3, n_jobs=1; total time=   2.8s\n",
      "[CV] END criterion=entropy, max_depth=100, min_samples_leaf=3, n_jobs=1; total time=   2.5s\n",
      "[CV] END criterion=entropy, max_depth=100, min_samples_leaf=3, n_jobs=1; total time=   2.5s\n",
      "[CV] END criterion=entropy, max_depth=100, min_samples_leaf=3, n_jobs=1; total time=   2.5s\n",
      "[CV] END criterion=entropy, max_depth=100, min_samples_leaf=3, n_jobs=1; total time=   2.6s\n",
      "[CV] END criterion=entropy, max_depth=100, min_samples_leaf=6, n_jobs=1; total time=   2.3s\n",
      "[CV] END criterion=entropy, max_depth=100, min_samples_leaf=6, n_jobs=1; total time=   2.3s\n",
      "[CV] END criterion=entropy, max_depth=100, min_samples_leaf=6, n_jobs=1; total time=   2.3s\n",
      "[CV] END criterion=entropy, max_depth=100, min_samples_leaf=6, n_jobs=1; total time=   2.3s\n",
      "[CV] END criterion=entropy, max_depth=100, min_samples_leaf=6, n_jobs=1; total time=   2.2s\n",
      "[CV] END criterion=entropy, max_depth=100, min_samples_leaf=9, n_jobs=1; total time=   2.2s\n",
      "[CV] END criterion=entropy, max_depth=100, min_samples_leaf=9, n_jobs=1; total time=   2.4s\n",
      "[CV] END criterion=entropy, max_depth=100, min_samples_leaf=9, n_jobs=1; total time=   2.1s\n",
      "[CV] END criterion=entropy, max_depth=100, min_samples_leaf=9, n_jobs=1; total time=   2.2s\n",
      "[CV] END criterion=entropy, max_depth=100, min_samples_leaf=9, n_jobs=1; total time=   2.1s\n"
     ]
    },
    {
     "data": {
      "text/plain": [
       "GridSearchCV(cv=5, estimator=RandomForestClassifier(),\n",
       "             param_grid={'criterion': ['gini', 'entropy'],\n",
       "                         'max_depth': [10, 50, 100],\n",
       "                         'min_samples_leaf': [3, 6, 9], 'n_jobs': [1]},\n",
       "             scoring='accuracy', verbose=2)"
      ]
     },
     "execution_count": 187,
     "metadata": {},
     "output_type": "execute_result"
    }
   ],
   "source": [
    "params = { \n",
    "    'max_depth' : [10,50,100],\n",
    "    'criterion' :['gini', 'entropy'],\n",
    "    'n_jobs':[1],\n",
    "    'min_samples_leaf':[3,6,9]\n",
    "}\n",
    "\n",
    "grid_search = GridSearchCV(RandomForestClassifier(), param_grid=params, scoring = 'accuracy', cv = 5, verbose=2)\n",
    "grid_search.fit(x_train, y_train)"
   ]
  },
  {
   "cell_type": "code",
   "execution_count": 188,
   "metadata": {},
   "outputs": [
    {
     "name": "stdout",
     "output_type": "stream",
     "text": [
      "0.8218390808042398\n",
      "{'criterion': 'entropy', 'max_depth': 50, 'min_samples_leaf': 3, 'n_jobs': 1}\n"
     ]
    },
    {
     "data": {
      "text/plain": [
       "array([[4648,  565],\n",
       "       [ 661, 6505]], dtype=int64)"
      ]
     },
     "execution_count": 188,
     "metadata": {},
     "output_type": "execute_result"
    }
   ],
   "source": [
    "print(grid_search.best_score_)\n",
    "print(grid_search.best_params_)\n",
    "confusion_matrix(y_test, y_pred)"
   ]
  },
  {
   "cell_type": "code",
   "execution_count": null,
   "metadata": {},
   "outputs": [],
   "source": []
  }
 ],
 "metadata": {
  "kernelspec": {
   "display_name": "Python 3",
   "language": "python",
   "name": "python3"
  },
  "language_info": {
   "codemirror_mode": {
    "name": "ipython",
    "version": 3
   },
   "file_extension": ".py",
   "mimetype": "text/x-python",
   "name": "python",
   "nbconvert_exporter": "python",
   "pygments_lexer": "ipython3",
   "version": "3.7.6"
  }
 },
 "nbformat": 4,
 "nbformat_minor": 4
}
